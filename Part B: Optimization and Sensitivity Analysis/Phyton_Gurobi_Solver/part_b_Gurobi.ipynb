{
 "cells": [
  {
   "cell_type": "code",
   "execution_count": 29,
   "id": "add01b73",
   "metadata": {},
   "outputs": [],
   "source": [
    "from gurobipy import *\n",
    "import numpy as np"
   ]
  },
  {
   "cell_type": "code",
   "execution_count": 30,
   "id": "eac5539c",
   "metadata": {},
   "outputs": [],
   "source": [
    "#Indices\n",
    "t_array = np.arange(0,6)\n",
    "m_array = np.arange(0,8)\n",
    "k_array = np.arange(0, 20)\n",
    "i_array = np.arange(0, 10)\n",
    "j_array = np.arange(0, 3)"
   ]
  },
  {
   "cell_type": "code",
   "execution_count": 31,
   "id": "bf4ad215",
   "metadata": {},
   "outputs": [],
   "source": [
    "oi = Model()"
   ]
  },
  {
   "cell_type": "code",
   "execution_count": 59,
   "id": "0b995dd7",
   "metadata": {},
   "outputs": [],
   "source": [
    "#Variables\n",
    "x = oi.addVars(((i,m) for i in i_array for m in m_array),vtype = GRB.BINARY)\n",
    "e = oi.addVars(((k,i) for k in k_array for i in i_array),vtype = GRB.BINARY)\n",
    "b = oi.addVars(((i) for i in i_array),vtype = GRB.BINARY)\n",
    "y = oi.addVars(((k) for k in k_array),vtype = GRB.BINARY)\n",
    "o = oi.addVars(((i,k) for i in i_array for k in k_array),vtype = GRB.CONTINUOUS)\n",
    "w = oi.addVars(((i) for i in i_array),vtype = GRB.BINARY)\n",
    "profit = oi.addVars(((i) for i in i_array),vtype = GRB.CONTINUOUS)"
   ]
  },
  {
   "cell_type": "code",
   "execution_count": 60,
   "id": "5d0a9b3a",
   "metadata": {},
   "outputs": [],
   "source": [
    "#Matrices\n",
    "R_i =np.array([250, 1800, 1050, 3550, 550, 3600, 700, 3650, 1350, 2800])\n",
    "et_tk = np.array([\n",
    "    [0, 0, 0, 0, 1, 0, 0, 0, 1, 0, 0, 0, 1, 0, 0, 0, 0, 1, 0, 0],\n",
    "    [0, 0, 0, 0, 0, 0, 1, 0, 0, 1, 0, 0, 0, 1, 0, 0, 0, 0, 0, 1],\n",
    "    [0, 0, 0, 0, 0, 1, 0, 1, 0, 0, 0, 0, 0, 0, 1, 0, 0, 0, 0, 0],\n",
    "    [0, 1, 0, 1, 0, 0, 0, 0, 0, 0, 1, 0, 0, 0, 0, 1, 0, 0, 1, 0],\n",
    "    [0, 0, 1, 0, 0, 0, 0, 0, 0, 0, 0, 0, 0, 0, 0, 0, 1, 0, 0, 0],\n",
    "    [1, 0, 0, 0, 0, 0, 0, 0, 0, 0, 0, 1, 0, 0, 0, 0, 0, 0, 0, 0]])\n",
    "L = 2\n",
    "p = 1500\n",
    "H = 280\n",
    "G_j = np.array([10000, 50000, 800000])\n",
    "S_t = np.array([8000, 16000, 24000, 32000, 40000, 48000])\n",
    "ub_ti = np.array([\n",
    "    [2, 2, 2, 3, 3, 3, 3, 3, 2, 3],\n",
    "    [3, 2, 3, 2, 3, 3, 3, 2, 2, 2],\n",
    "    [2, 2, 2, 3, 2, 2, 2, 2, 3, 2],\n",
    "    [3, 2, 3, 2, 2, 2, 3, 2, 3, 3],\n",
    "    [2, 3, 2, 2, 2, 3, 3, 2, 3, 3],\n",
    "    [2, 3, 3, 2, 3, 2, 2, 2, 3, 3]])\n",
    "lb_ti = np.array([\n",
    "    [1, 1, 1, 1, 1, 1, 1, 0, 1, 0],\n",
    "    [0, 1, 0, 1, 0, 0, 0, 1, 1, 0],\n",
    "    [1, 0, 1, 1, 0, 0, 0, 0, 0, 1],\n",
    "    [1, 0, 0, 1, 1, 0, 1, 0, 1, 1],\n",
    "    [0, 1, 1, 0, 1, 1, 0, 0, 1, 1],\n",
    "    [0, 1, 1, 0, 0, 1, 0, 0, 1, 1]])\n",
    "d_ij = np.array([\n",
    "    [1, 0, 0],\n",
    "    [0, 1, 0],\n",
    "    [0, 1, 0],\n",
    "    [0, 0, 1],\n",
    "    [1, 0, 0],\n",
    "    [0, 0, 1],\n",
    "    [1, 0, 0],\n",
    "    [0, 0, 1],\n",
    "    [0, 1, 0],\n",
    "    [0, 0, 1]])\n",
    "a_im = np.array([\n",
    "    [0, 0, 0, 0, 1, 0, 1, 1],\n",
    "    [1, 1, 1, 0, 1, 0, 0, 1],\n",
    "    [0, 1, 1, 1, 0, 1, 1, 1],\n",
    "    [1, 1, 0, 0, 1, 1, 0, 0],\n",
    "    [0, 0, 0, 0, 1, 1, 0, 0],\n",
    "    [1, 0, 0, 1, 1, 1, 1, 1],\n",
    "    [0, 0, 1, 1, 1, 0, 1, 1],\n",
    "    [1, 0, 0, 0, 1, 1, 1, 0],\n",
    "    [0, 0, 1, 0, 1, 1, 1, 1],\n",
    "    [1, 0, 1, 1, 0, 1, 0, 1]])"
   ]
  },
  {
   "cell_type": "code",
   "execution_count": 61,
   "id": "1d9200dd",
   "metadata": {},
   "outputs": [],
   "source": [
    "#Constraints\n",
    "for k in k_array:\n",
    "    oi.addConstr(quicksum(e[k,i] for i in i_array)>=1)"
   ]
  },
  {
   "cell_type": "code",
   "execution_count": 62,
   "id": "c1d83252",
   "metadata": {},
   "outputs": [],
   "source": [
    "for k in k_array:\n",
    "    oi.addConstr(quicksum(e[k,i] for i in i_array)<=5)"
   ]
  },
  {
   "cell_type": "code",
   "execution_count": 63,
   "id": "cae9a21b",
   "metadata": {},
   "outputs": [],
   "source": [
    "for i in i_array:\n",
    "    for t in t_array:\n",
    "        oi.addConstr((quicksum(e[k,i] * et_tk[t,k] for k in k_array)<=ub_ti[t,i]))"
   ]
  },
  {
   "cell_type": "code",
   "execution_count": 64,
   "id": "62d4ba82",
   "metadata": {},
   "outputs": [],
   "source": [
    "for i in i_array:\n",
    "    for t in t_array:\n",
    "        oi.addConstr((quicksum(e[k,i] * et_tk[t,k] for k in k_array)>=lb_ti[t,i]))"
   ]
  },
  {
   "cell_type": "code",
   "execution_count": 65,
   "id": "ea120bd8",
   "metadata": {},
   "outputs": [],
   "source": [
    "for m in m_array:\n",
    "    oi.addConstr(quicksum(x[i,m] for i in i_array)>=1)"
   ]
  },
  {
   "cell_type": "code",
   "execution_count": 66,
   "id": "5e6701a0",
   "metadata": {},
   "outputs": [],
   "source": [
    "for i in i_array:\n",
    "    oi.addConstr(quicksum(x[i,m] for m in m_array)<=1)"
   ]
  },
  {
   "cell_type": "code",
   "execution_count": 67,
   "id": "4ee2f8df",
   "metadata": {},
   "outputs": [
    {
     "data": {
      "text/plain": [
       "<gurobi.Constr *Awaiting Model Update*>"
      ]
     },
     "execution_count": 67,
     "metadata": {},
     "output_type": "execute_result"
    }
   ],
   "source": [
    "oi.addConstr(quicksum(x[i,0] - x[i,1] for i in i_array)<=L)"
   ]
  },
  {
   "cell_type": "code",
   "execution_count": 68,
   "id": "f8e6a0a1",
   "metadata": {},
   "outputs": [
    {
     "data": {
      "text/plain": [
       "<gurobi.Constr *Awaiting Model Update*>"
      ]
     },
     "execution_count": 68,
     "metadata": {},
     "output_type": "execute_result"
    }
   ],
   "source": [
    "oi.addConstr(quicksum(x[i,1] - x[i,0] for i in i_array)<=L)"
   ]
  },
  {
   "cell_type": "code",
   "execution_count": 69,
   "id": "7a44b5c9",
   "metadata": {},
   "outputs": [],
   "source": [
    "for k in k_array:\n",
    "    oi.addConstr(quicksum(o[i,k] for i in i_array)+y[k]*8*30<= H)"
   ]
  },
  {
   "cell_type": "code",
   "execution_count": 70,
   "id": "c506375e",
   "metadata": {},
   "outputs": [],
   "source": [
    "for k in k_array:\n",
    "    oi.addConstr(y[k] <= quicksum(e[k,i] for i in i_array))"
   ]
  },
  {
   "cell_type": "code",
   "execution_count": 71,
   "id": "9b754e8f",
   "metadata": {},
   "outputs": [],
   "source": [
    "for k in k_array:\n",
    "    oi.addConstr(10*y[k]>=quicksum(e[k,i] for i in i_array))"
   ]
  },
  {
   "cell_type": "code",
   "execution_count": 72,
   "id": "a7bee4f8",
   "metadata": {},
   "outputs": [],
   "source": [
    "for k in k_array:\n",
    "    for i in i_array:\n",
    "        oi.addConstr(o[i,k]<=H*e[k,i])"
   ]
  },
  {
   "cell_type": "code",
   "execution_count": 73,
   "id": "5e2de9fe",
   "metadata": {},
   "outputs": [],
   "source": [
    "for i in i_array:\n",
    "    oi.addConstr(quicksum(x[i,m] for m in m_array)>=b[i])"
   ]
  },
  {
   "cell_type": "code",
   "execution_count": 74,
   "id": "0b0a50eb",
   "metadata": {},
   "outputs": [],
   "source": [
    "for i in i_array:\n",
    "    for m in m_array:\n",
    "        oi.addConstr(x[i,m]<=a_im[i,m])"
   ]
  },
  {
   "cell_type": "code",
   "execution_count": 75,
   "id": "a65086ac",
   "metadata": {},
   "outputs": [],
   "source": [
    "for i in i_array:\n",
    "    oi.addConstr(quicksum(8*30*e[k,i] + o[i,k]*d_ij[i,2] for k in k_array) >= (R_i[i]*b[i]))"
   ]
  },
  {
   "cell_type": "code",
   "execution_count": 76,
   "id": "2be46c3e",
   "metadata": {},
   "outputs": [
    {
     "data": {
      "text/plain": [
       "<gurobi.Constr *Awaiting Model Update*>"
      ]
     },
     "execution_count": 76,
     "metadata": {},
     "output_type": "execute_result"
    }
   ],
   "source": [
    "oi.addConstr(x[0,0]>=w[0])\n",
    "oi.addConstr(x[1,0]>=w[0])\n",
    "oi.addConstr(x[0,0]+x[1,0]-1<=w[0])\n",
    "oi.addConstr(1-w[0]<=x[2,2])"
   ]
  },
  {
   "cell_type": "code",
   "execution_count": 77,
   "id": "799092ad",
   "metadata": {},
   "outputs": [],
   "source": [
    "for i in i_array:\n",
    "    oi.addConstr((1-b[i])*d_ij[i,1]<=w[1])"
   ]
  },
  {
   "cell_type": "code",
   "execution_count": 78,
   "id": "e07edb09",
   "metadata": {},
   "outputs": [],
   "source": [
    "for i in i_array:\n",
    "    oi.addConstr(1-w[1]>=(1-b[i])*d_ij[i,2])"
   ]
  },
  {
   "cell_type": "code",
   "execution_count": 79,
   "id": "299d25cd",
   "metadata": {},
   "outputs": [],
   "source": [
    "for i in i_array:\n",
    "    for k in k_array:\n",
    "        oi.addConstr(o[i,k] >= 0)"
   ]
  },
  {
   "cell_type": "code",
   "execution_count": 86,
   "id": "c2d017c2",
   "metadata": {},
   "outputs": [
    {
     "data": {
      "text/plain": [
       "<gurobi.Constr *Awaiting Model Update*>"
      ]
     },
     "execution_count": 86,
     "metadata": {},
     "output_type": "execute_result"
    }
   ],
   "source": [
    "oi.addConstr(profit[0] == quicksum(d_ij[i,j]*b[i]*G_j[j] for i in i_array for j in j_array)-quicksum(p*(1-b[i])for i in i_array)-quicksum(e[k,i]*S_t[t]*et_tk[t,k] for i in i_array for t in t_array for k in k_array)-quicksum(o[i,k]*50 for i in i_array for k in k_array))"
   ]
  },
  {
   "cell_type": "code",
   "execution_count": 87,
   "id": "3034489e",
   "metadata": {},
   "outputs": [],
   "source": [
    "oi.setObjective(quicksum(b[i] for i in i_array),GRB.MAXIMIZE)"
   ]
  },
  {
   "cell_type": "code",
   "execution_count": 88,
   "id": "b71530b4",
   "metadata": {},
   "outputs": [
    {
     "name": "stdout",
     "output_type": "stream",
     "text": [
      "Gurobi Optimizer version 10.0.1 build v10.0.1rc0 (win64)\n",
      "\n",
      "CPU model: 11th Gen Intel(R) Core(TM) i5-11300H @ 3.10GHz, instruction set [SSE2|AVX|AVX2|AVX512]\n",
      "Thread count: 4 physical cores, 8 logical processors, using up to 8 threads\n",
      "\n",
      "Optimize a model with 1529 rows, 1050 columns and 5923 nonzeros\n",
      "Model fingerprint: 0x2b9f9704\n",
      "Variable types: 410 continuous, 640 integer (640 binary)\n",
      "Coefficient statistics:\n",
      "  Matrix range     [1e+00, 8e+05]\n",
      "  Objective range  [1e+00, 1e+00]\n",
      "  Bounds range     [1e+00, 1e+00]\n",
      "  RHS range        [1e+00, 2e+04]\n",
      "\n",
      "MIP start from previous solve produced solution with objective 9 (0.01s)\n",
      "Loaded MIP start from previous solve with objective 9\n",
      "\n",
      "Presolve removed 1300 rows and 759 columns\n",
      "Presolve time: 0.01s\n",
      "Presolved: 229 rows, 291 columns, 1500 nonzeros\n",
      "Variable types: 80 continuous, 211 integer (211 binary)\n",
      "\n",
      "Root relaxation: infeasible, 153 iterations, 0.00 seconds (0.00 work units)\n",
      "\n",
      "    Nodes    |    Current Node    |     Objective Bounds      |     Work\n",
      " Expl Unexpl |  Obj  Depth IntInf | Incumbent    BestBd   Gap | It/Node Time\n",
      "\n",
      "     0     0 infeasible    0         9.00000    9.00000  0.00%     -    0s\n",
      "\n",
      "Explored 1 nodes (153 simplex iterations) in 0.03 seconds (0.01 work units)\n",
      "Thread count was 8 (of 8 available processors)\n",
      "\n",
      "Solution count 1: 9 \n",
      "\n",
      "Optimal solution found (tolerance 1.00e-04)\n",
      "Best objective 9.000000000000e+00, best bound 9.000000000000e+00, gap 0.0000%\n"
     ]
    }
   ],
   "source": [
    "oi.optimize()"
   ]
  },
  {
   "cell_type": "code",
   "execution_count": 90,
   "id": "c3196ea4",
   "metadata": {},
   "outputs": [
    {
     "data": {
      "text/plain": [
       "<gurobi.Var C1040 (value 514500.0)>"
      ]
     },
     "execution_count": 90,
     "metadata": {},
     "output_type": "execute_result"
    }
   ],
   "source": [
    "profit[0]"
   ]
  },
  {
   "cell_type": "code",
   "execution_count": 91,
   "id": "03c3f889",
   "metadata": {},
   "outputs": [
    {
     "data": {
      "text/plain": [
       "{(0, 0): <gurobi.Var C830 (value 0.0)>,\n",
       " (0, 1): <gurobi.Var C831 (value 0.0)>,\n",
       " (0, 2): <gurobi.Var C832 (value 0.0)>,\n",
       " (0, 3): <gurobi.Var C833 (value 0.0)>,\n",
       " (0, 4): <gurobi.Var C834 (value 0.0)>,\n",
       " (0, 5): <gurobi.Var C835 (value 0.0)>,\n",
       " (0, 6): <gurobi.Var C836 (value 0.0)>,\n",
       " (0, 7): <gurobi.Var C837 (value 0.0)>,\n",
       " (0, 8): <gurobi.Var C838 (value 0.0)>,\n",
       " (0, 9): <gurobi.Var C839 (value 0.0)>,\n",
       " (0, 10): <gurobi.Var C840 (value 0.0)>,\n",
       " (0, 11): <gurobi.Var C841 (value 0.0)>,\n",
       " (0, 12): <gurobi.Var C842 (value 0.0)>,\n",
       " (0, 13): <gurobi.Var C843 (value 0.0)>,\n",
       " (0, 14): <gurobi.Var C844 (value 0.0)>,\n",
       " (0, 15): <gurobi.Var C845 (value 0.0)>,\n",
       " (0, 16): <gurobi.Var C846 (value 0.0)>,\n",
       " (0, 17): <gurobi.Var C847 (value 0.0)>,\n",
       " (0, 18): <gurobi.Var C848 (value 0.0)>,\n",
       " (0, 19): <gurobi.Var C849 (value 0.0)>,\n",
       " (1, 0): <gurobi.Var C850 (value 0.0)>,\n",
       " (1, 1): <gurobi.Var C851 (value 0.0)>,\n",
       " (1, 2): <gurobi.Var C852 (value 0.0)>,\n",
       " (1, 3): <gurobi.Var C853 (value 0.0)>,\n",
       " (1, 4): <gurobi.Var C854 (value 0.0)>,\n",
       " (1, 5): <gurobi.Var C855 (value 0.0)>,\n",
       " (1, 6): <gurobi.Var C856 (value 0.0)>,\n",
       " (1, 7): <gurobi.Var C857 (value 0.0)>,\n",
       " (1, 8): <gurobi.Var C858 (value 0.0)>,\n",
       " (1, 9): <gurobi.Var C859 (value 0.0)>,\n",
       " (1, 10): <gurobi.Var C860 (value 0.0)>,\n",
       " (1, 11): <gurobi.Var C861 (value 0.0)>,\n",
       " (1, 12): <gurobi.Var C862 (value 0.0)>,\n",
       " (1, 13): <gurobi.Var C863 (value 0.0)>,\n",
       " (1, 14): <gurobi.Var C864 (value 0.0)>,\n",
       " (1, 15): <gurobi.Var C865 (value 0.0)>,\n",
       " (1, 16): <gurobi.Var C866 (value 0.0)>,\n",
       " (1, 17): <gurobi.Var C867 (value 0.0)>,\n",
       " (1, 18): <gurobi.Var C868 (value 0.0)>,\n",
       " (1, 19): <gurobi.Var C869 (value 0.0)>,\n",
       " (2, 0): <gurobi.Var C870 (value 0.0)>,\n",
       " (2, 1): <gurobi.Var C871 (value 0.0)>,\n",
       " (2, 2): <gurobi.Var C872 (value 0.0)>,\n",
       " (2, 3): <gurobi.Var C873 (value 0.0)>,\n",
       " (2, 4): <gurobi.Var C874 (value 0.0)>,\n",
       " (2, 5): <gurobi.Var C875 (value 0.0)>,\n",
       " (2, 6): <gurobi.Var C876 (value 0.0)>,\n",
       " (2, 7): <gurobi.Var C877 (value 0.0)>,\n",
       " (2, 8): <gurobi.Var C878 (value 0.0)>,\n",
       " (2, 9): <gurobi.Var C879 (value 0.0)>,\n",
       " (2, 10): <gurobi.Var C880 (value 0.0)>,\n",
       " (2, 11): <gurobi.Var C881 (value 0.0)>,\n",
       " (2, 12): <gurobi.Var C882 (value 0.0)>,\n",
       " (2, 13): <gurobi.Var C883 (value 0.0)>,\n",
       " (2, 14): <gurobi.Var C884 (value 0.0)>,\n",
       " (2, 15): <gurobi.Var C885 (value 0.0)>,\n",
       " (2, 16): <gurobi.Var C886 (value 0.0)>,\n",
       " (2, 17): <gurobi.Var C887 (value 0.0)>,\n",
       " (2, 18): <gurobi.Var C888 (value 0.0)>,\n",
       " (2, 19): <gurobi.Var C889 (value 0.0)>,\n",
       " (3, 0): <gurobi.Var C890 (value 30.0)>,\n",
       " (3, 1): <gurobi.Var C891 (value 0.0)>,\n",
       " (3, 2): <gurobi.Var C892 (value 0.0)>,\n",
       " (3, 3): <gurobi.Var C893 (value 0.0)>,\n",
       " (3, 4): <gurobi.Var C894 (value 40.0)>,\n",
       " (3, 5): <gurobi.Var C895 (value 0.0)>,\n",
       " (3, 6): <gurobi.Var C896 (value 40.0)>,\n",
       " (3, 7): <gurobi.Var C897 (value 40.0)>,\n",
       " (3, 8): <gurobi.Var C898 (value 40.0)>,\n",
       " (3, 9): <gurobi.Var C899 (value 0.0)>,\n",
       " (3, 10): <gurobi.Var C900 (value 0.0)>,\n",
       " (3, 11): <gurobi.Var C901 (value 0.0)>,\n",
       " (3, 12): <gurobi.Var C902 (value 0.0)>,\n",
       " (3, 13): <gurobi.Var C903 (value 0.0)>,\n",
       " (3, 14): <gurobi.Var C904 (value 0.0)>,\n",
       " (3, 15): <gurobi.Var C905 (value 0.0)>,\n",
       " (3, 16): <gurobi.Var C906 (value 0.0)>,\n",
       " (3, 17): <gurobi.Var C907 (value 0.0)>,\n",
       " (3, 18): <gurobi.Var C908 (value 0.0)>,\n",
       " (3, 19): <gurobi.Var C909 (value 0.0)>,\n",
       " (4, 0): <gurobi.Var C910 (value 0.0)>,\n",
       " (4, 1): <gurobi.Var C911 (value 0.0)>,\n",
       " (4, 2): <gurobi.Var C912 (value 0.0)>,\n",
       " (4, 3): <gurobi.Var C913 (value 0.0)>,\n",
       " (4, 4): <gurobi.Var C914 (value 0.0)>,\n",
       " (4, 5): <gurobi.Var C915 (value 0.0)>,\n",
       " (4, 6): <gurobi.Var C916 (value 0.0)>,\n",
       " (4, 7): <gurobi.Var C917 (value 0.0)>,\n",
       " (4, 8): <gurobi.Var C918 (value 0.0)>,\n",
       " (4, 9): <gurobi.Var C919 (value 0.0)>,\n",
       " (4, 10): <gurobi.Var C920 (value 0.0)>,\n",
       " (4, 11): <gurobi.Var C921 (value 0.0)>,\n",
       " (4, 12): <gurobi.Var C922 (value 0.0)>,\n",
       " (4, 13): <gurobi.Var C923 (value 0.0)>,\n",
       " (4, 14): <gurobi.Var C924 (value 0.0)>,\n",
       " (4, 15): <gurobi.Var C925 (value 0.0)>,\n",
       " (4, 16): <gurobi.Var C926 (value 0.0)>,\n",
       " (4, 17): <gurobi.Var C927 (value 0.0)>,\n",
       " (4, 18): <gurobi.Var C928 (value 0.0)>,\n",
       " (4, 19): <gurobi.Var C929 (value 0.0)>,\n",
       " (5, 0): <gurobi.Var C930 (value 10.0)>,\n",
       " (5, 1): <gurobi.Var C931 (value 40.0)>,\n",
       " (5, 2): <gurobi.Var C932 (value 40.0)>,\n",
       " (5, 3): <gurobi.Var C933 (value 0.0)>,\n",
       " (5, 4): <gurobi.Var C934 (value 0.0)>,\n",
       " (5, 5): <gurobi.Var C935 (value 40.0)>,\n",
       " (5, 6): <gurobi.Var C936 (value 0.0)>,\n",
       " (5, 7): <gurobi.Var C937 (value 0.0)>,\n",
       " (5, 8): <gurobi.Var C938 (value 0.0)>,\n",
       " (5, 9): <gurobi.Var C939 (value 40.0)>,\n",
       " (5, 10): <gurobi.Var C940 (value 0.0)>,\n",
       " (5, 11): <gurobi.Var C941 (value 40.0)>,\n",
       " (5, 12): <gurobi.Var C942 (value 40.0)>,\n",
       " (5, 13): <gurobi.Var C943 (value 0.0)>,\n",
       " (5, 14): <gurobi.Var C944 (value 0.0)>,\n",
       " (5, 15): <gurobi.Var C945 (value 0.0)>,\n",
       " (5, 16): <gurobi.Var C946 (value 0.0)>,\n",
       " (5, 17): <gurobi.Var C947 (value 0.0)>,\n",
       " (5, 18): <gurobi.Var C948 (value 40.0)>,\n",
       " (5, 19): <gurobi.Var C949 (value 40.0)>,\n",
       " (6, 0): <gurobi.Var C950 (value 0.0)>,\n",
       " (6, 1): <gurobi.Var C951 (value 0.0)>,\n",
       " (6, 2): <gurobi.Var C952 (value 0.0)>,\n",
       " (6, 3): <gurobi.Var C953 (value 0.0)>,\n",
       " (6, 4): <gurobi.Var C954 (value 0.0)>,\n",
       " (6, 5): <gurobi.Var C955 (value 0.0)>,\n",
       " (6, 6): <gurobi.Var C956 (value 0.0)>,\n",
       " (6, 7): <gurobi.Var C957 (value 0.0)>,\n",
       " (6, 8): <gurobi.Var C958 (value 0.0)>,\n",
       " (6, 9): <gurobi.Var C959 (value 0.0)>,\n",
       " (6, 10): <gurobi.Var C960 (value 0.0)>,\n",
       " (6, 11): <gurobi.Var C961 (value 0.0)>,\n",
       " (6, 12): <gurobi.Var C962 (value 0.0)>,\n",
       " (6, 13): <gurobi.Var C963 (value 0.0)>,\n",
       " (6, 14): <gurobi.Var C964 (value 0.0)>,\n",
       " (6, 15): <gurobi.Var C965 (value 0.0)>,\n",
       " (6, 16): <gurobi.Var C966 (value 0.0)>,\n",
       " (6, 17): <gurobi.Var C967 (value 0.0)>,\n",
       " (6, 18): <gurobi.Var C968 (value 0.0)>,\n",
       " (6, 19): <gurobi.Var C969 (value 0.0)>,\n",
       " (7, 0): <gurobi.Var C970 (value 0.0)>,\n",
       " (7, 1): <gurobi.Var C971 (value 0.0)>,\n",
       " (7, 2): <gurobi.Var C972 (value 0.0)>,\n",
       " (7, 3): <gurobi.Var C973 (value 0.0)>,\n",
       " (7, 4): <gurobi.Var C974 (value 0.0)>,\n",
       " (7, 5): <gurobi.Var C975 (value 0.0)>,\n",
       " (7, 6): <gurobi.Var C976 (value 0.0)>,\n",
       " (7, 7): <gurobi.Var C977 (value 0.0)>,\n",
       " (7, 8): <gurobi.Var C978 (value 0.0)>,\n",
       " (7, 9): <gurobi.Var C979 (value 0.0)>,\n",
       " (7, 10): <gurobi.Var C980 (value 40.0)>,\n",
       " (7, 11): <gurobi.Var C981 (value 0.0)>,\n",
       " (7, 12): <gurobi.Var C982 (value 0.0)>,\n",
       " (7, 13): <gurobi.Var C983 (value 40.0)>,\n",
       " (7, 14): <gurobi.Var C984 (value 0.0)>,\n",
       " (7, 15): <gurobi.Var C985 (value 0.0)>,\n",
       " (7, 16): <gurobi.Var C986 (value 0.0)>,\n",
       " (7, 17): <gurobi.Var C987 (value 0.0)>,\n",
       " (7, 18): <gurobi.Var C988 (value 0.0)>,\n",
       " (7, 19): <gurobi.Var C989 (value 0.0)>,\n",
       " (8, 0): <gurobi.Var C990 (value 0.0)>,\n",
       " (8, 1): <gurobi.Var C991 (value 0.0)>,\n",
       " (8, 2): <gurobi.Var C992 (value 0.0)>,\n",
       " (8, 3): <gurobi.Var C993 (value 0.0)>,\n",
       " (8, 4): <gurobi.Var C994 (value 0.0)>,\n",
       " (8, 5): <gurobi.Var C995 (value 0.0)>,\n",
       " (8, 6): <gurobi.Var C996 (value 0.0)>,\n",
       " (8, 7): <gurobi.Var C997 (value 0.0)>,\n",
       " (8, 8): <gurobi.Var C998 (value 0.0)>,\n",
       " (8, 9): <gurobi.Var C999 (value 0.0)>,\n",
       " (8, 10): <gurobi.Var C1000 (value 0.0)>,\n",
       " (8, 11): <gurobi.Var C1001 (value 0.0)>,\n",
       " (8, 12): <gurobi.Var C1002 (value 0.0)>,\n",
       " (8, 13): <gurobi.Var C1003 (value 0.0)>,\n",
       " (8, 14): <gurobi.Var C1004 (value 0.0)>,\n",
       " (8, 15): <gurobi.Var C1005 (value 0.0)>,\n",
       " (8, 16): <gurobi.Var C1006 (value 0.0)>,\n",
       " (8, 17): <gurobi.Var C1007 (value 0.0)>,\n",
       " (8, 18): <gurobi.Var C1008 (value 0.0)>,\n",
       " (8, 19): <gurobi.Var C1009 (value 0.0)>,\n",
       " (9, 0): <gurobi.Var C1010 (value 0.0)>,\n",
       " (9, 1): <gurobi.Var C1011 (value 0.0)>,\n",
       " (9, 2): <gurobi.Var C1012 (value 0.0)>,\n",
       " (9, 3): <gurobi.Var C1013 (value 40.0)>,\n",
       " (9, 4): <gurobi.Var C1014 (value 0.0)>,\n",
       " (9, 5): <gurobi.Var C1015 (value 0.0)>,\n",
       " (9, 6): <gurobi.Var C1016 (value 0.0)>,\n",
       " (9, 7): <gurobi.Var C1017 (value 0.0)>,\n",
       " (9, 8): <gurobi.Var C1018 (value 0.0)>,\n",
       " (9, 9): <gurobi.Var C1019 (value 0.0)>,\n",
       " (9, 10): <gurobi.Var C1020 (value 0.0)>,\n",
       " (9, 11): <gurobi.Var C1021 (value 0.0)>,\n",
       " (9, 12): <gurobi.Var C1022 (value 0.0)>,\n",
       " (9, 13): <gurobi.Var C1023 (value 0.0)>,\n",
       " (9, 14): <gurobi.Var C1024 (value 40.0)>,\n",
       " (9, 15): <gurobi.Var C1025 (value 40.0)>,\n",
       " (9, 16): <gurobi.Var C1026 (value 40.0)>,\n",
       " (9, 17): <gurobi.Var C1027 (value 40.0)>,\n",
       " (9, 18): <gurobi.Var C1028 (value 0.0)>,\n",
       " (9, 19): <gurobi.Var C1029 (value 0.0)>}"
      ]
     },
     "execution_count": 91,
     "metadata": {},
     "output_type": "execute_result"
    }
   ],
   "source": [
    "o"
   ]
  },
  {
   "cell_type": "code",
   "execution_count": 92,
   "id": "4f3d7f2d",
   "metadata": {},
   "outputs": [
    {
     "data": {
      "text/plain": [
       "{(0, 0): <gurobi.Var C600 (value 0.0)>,\n",
       " (0, 1): <gurobi.Var C601 (value 1.0)>,\n",
       " (0, 2): <gurobi.Var C602 (value 0.0)>,\n",
       " (0, 3): <gurobi.Var C603 (value 1.0)>,\n",
       " (0, 4): <gurobi.Var C604 (value 0.0)>,\n",
       " (0, 5): <gurobi.Var C605 (value 1.0)>,\n",
       " (0, 6): <gurobi.Var C606 (value 0.0)>,\n",
       " (0, 7): <gurobi.Var C607 (value 1.0)>,\n",
       " (0, 8): <gurobi.Var C608 (value 0.0)>,\n",
       " (0, 9): <gurobi.Var C609 (value 1.0)>,\n",
       " (1, 0): <gurobi.Var C610 (value 0.0)>,\n",
       " (1, 1): <gurobi.Var C611 (value 0.0)>,\n",
       " (1, 2): <gurobi.Var C612 (value 0.0)>,\n",
       " (1, 3): <gurobi.Var C613 (value 0.0)>,\n",
       " (1, 4): <gurobi.Var C614 (value 1.0)>,\n",
       " (1, 5): <gurobi.Var C615 (value 1.0)>,\n",
       " (1, 6): <gurobi.Var C616 (value 0.0)>,\n",
       " (1, 7): <gurobi.Var C617 (value 1.0)>,\n",
       " (1, 8): <gurobi.Var C618 (value 1.0)>,\n",
       " (1, 9): <gurobi.Var C619 (value 0.0)>,\n",
       " (2, 0): <gurobi.Var C620 (value 0.0)>,\n",
       " (2, 1): <gurobi.Var C621 (value 1.0)>,\n",
       " (2, 2): <gurobi.Var C622 (value 0.0)>,\n",
       " (2, 3): <gurobi.Var C623 (value 1.0)>,\n",
       " (2, 4): <gurobi.Var C624 (value 1.0)>,\n",
       " (2, 5): <gurobi.Var C625 (value 1.0)>,\n",
       " (2, 6): <gurobi.Var C626 (value 0.0)>,\n",
       " (2, 7): <gurobi.Var C627 (value 0.0)>,\n",
       " (2, 8): <gurobi.Var C628 (value 1.0)>,\n",
       " (2, 9): <gurobi.Var C629 (value 0.0)>,\n",
       " (3, 0): <gurobi.Var C630 (value 0.0)>,\n",
       " (3, 1): <gurobi.Var C631 (value 1.0)>,\n",
       " (3, 2): <gurobi.Var C632 (value 0.0)>,\n",
       " (3, 3): <gurobi.Var C633 (value 1.0)>,\n",
       " (3, 4): <gurobi.Var C634 (value 0.0)>,\n",
       " (3, 5): <gurobi.Var C635 (value 0.0)>,\n",
       " (3, 6): <gurobi.Var C636 (value 0.0)>,\n",
       " (3, 7): <gurobi.Var C637 (value 0.0)>,\n",
       " (3, 8): <gurobi.Var C638 (value 0.0)>,\n",
       " (3, 9): <gurobi.Var C639 (value 1.0)>,\n",
       " (4, 0): <gurobi.Var C640 (value 0.0)>,\n",
       " (4, 1): <gurobi.Var C641 (value 0.0)>,\n",
       " (4, 2): <gurobi.Var C642 (value 1.0)>,\n",
       " (4, 3): <gurobi.Var C643 (value 1.0)>,\n",
       " (4, 4): <gurobi.Var C644 (value 0.0)>,\n",
       " (4, 5): <gurobi.Var C645 (value 1.0)>,\n",
       " (4, 6): <gurobi.Var C646 (value 0.0)>,\n",
       " (4, 7): <gurobi.Var C647 (value 0.0)>,\n",
       " (4, 8): <gurobi.Var C648 (value 1.0)>,\n",
       " (4, 9): <gurobi.Var C649 (value 1.0)>,\n",
       " (5, 0): <gurobi.Var C650 (value 1.0)>,\n",
       " (5, 1): <gurobi.Var C651 (value 0.0)>,\n",
       " (5, 2): <gurobi.Var C652 (value 0.0)>,\n",
       " (5, 3): <gurobi.Var C653 (value 1.0)>,\n",
       " (5, 4): <gurobi.Var C654 (value 0.0)>,\n",
       " (5, 5): <gurobi.Var C655 (value 1.0)>,\n",
       " (5, 6): <gurobi.Var C656 (value 0.0)>,\n",
       " (5, 7): <gurobi.Var C657 (value 1.0)>,\n",
       " (5, 8): <gurobi.Var C658 (value 0.0)>,\n",
       " (5, 9): <gurobi.Var C659 (value 1.0)>,\n",
       " (6, 0): <gurobi.Var C660 (value 0.0)>,\n",
       " (6, 1): <gurobi.Var C661 (value 0.0)>,\n",
       " (6, 2): <gurobi.Var C662 (value 1.0)>,\n",
       " (6, 3): <gurobi.Var C663 (value 1.0)>,\n",
       " (6, 4): <gurobi.Var C664 (value 0.0)>,\n",
       " (6, 5): <gurobi.Var C665 (value 1.0)>,\n",
       " (6, 6): <gurobi.Var C666 (value 1.0)>,\n",
       " (6, 7): <gurobi.Var C667 (value 0.0)>,\n",
       " (6, 8): <gurobi.Var C668 (value 0.0)>,\n",
       " (6, 9): <gurobi.Var C669 (value 1.0)>,\n",
       " (7, 0): <gurobi.Var C670 (value 0.0)>,\n",
       " (7, 1): <gurobi.Var C671 (value 0.0)>,\n",
       " (7, 2): <gurobi.Var C672 (value 0.0)>,\n",
       " (7, 3): <gurobi.Var C673 (value 1.0)>,\n",
       " (7, 4): <gurobi.Var C674 (value 0.0)>,\n",
       " (7, 5): <gurobi.Var C675 (value 1.0)>,\n",
       " (7, 6): <gurobi.Var C676 (value 0.0)>,\n",
       " (7, 7): <gurobi.Var C677 (value 0.0)>,\n",
       " (7, 8): <gurobi.Var C678 (value 0.0)>,\n",
       " (7, 9): <gurobi.Var C679 (value 0.0)>,\n",
       " (8, 0): <gurobi.Var C680 (value 1.0)>,\n",
       " (8, 1): <gurobi.Var C681 (value 1.0)>,\n",
       " (8, 2): <gurobi.Var C682 (value 0.0)>,\n",
       " (8, 3): <gurobi.Var C683 (value 1.0)>,\n",
       " (8, 4): <gurobi.Var C684 (value 0.0)>,\n",
       " (8, 5): <gurobi.Var C685 (value 0.0)>,\n",
       " (8, 6): <gurobi.Var C686 (value 0.0)>,\n",
       " (8, 7): <gurobi.Var C687 (value 1.0)>,\n",
       " (8, 8): <gurobi.Var C688 (value 0.0)>,\n",
       " (8, 9): <gurobi.Var C689 (value 1.0)>,\n",
       " (9, 0): <gurobi.Var C690 (value 0.0)>,\n",
       " (9, 1): <gurobi.Var C691 (value 1.0)>,\n",
       " (9, 2): <gurobi.Var C692 (value 0.0)>,\n",
       " (9, 3): <gurobi.Var C693 (value 0.0)>,\n",
       " (9, 4): <gurobi.Var C694 (value 0.0)>,\n",
       " (9, 5): <gurobi.Var C695 (value 1.0)>,\n",
       " (9, 6): <gurobi.Var C696 (value 0.0)>,\n",
       " (9, 7): <gurobi.Var C697 (value 0.0)>,\n",
       " (9, 8): <gurobi.Var C698 (value 0.0)>,\n",
       " (9, 9): <gurobi.Var C699 (value 0.0)>,\n",
       " (10, 0): <gurobi.Var C700 (value 0.0)>,\n",
       " (10, 1): <gurobi.Var C701 (value 0.0)>,\n",
       " (10, 2): <gurobi.Var C702 (value 0.0)>,\n",
       " (10, 3): <gurobi.Var C703 (value 0.0)>,\n",
       " (10, 4): <gurobi.Var C704 (value 0.0)>,\n",
       " (10, 5): <gurobi.Var C705 (value 0.0)>,\n",
       " (10, 6): <gurobi.Var C706 (value 1.0)>,\n",
       " (10, 7): <gurobi.Var C707 (value 1.0)>,\n",
       " (10, 8): <gurobi.Var C708 (value 0.0)>,\n",
       " (10, 9): <gurobi.Var C709 (value 0.0)>,\n",
       " (11, 0): <gurobi.Var C710 (value 0.0)>,\n",
       " (11, 1): <gurobi.Var C711 (value 0.0)>,\n",
       " (11, 2): <gurobi.Var C712 (value 1.0)>,\n",
       " (11, 3): <gurobi.Var C713 (value 1.0)>,\n",
       " (11, 4): <gurobi.Var C714 (value 0.0)>,\n",
       " (11, 5): <gurobi.Var C715 (value 1.0)>,\n",
       " (11, 6): <gurobi.Var C716 (value 0.0)>,\n",
       " (11, 7): <gurobi.Var C717 (value 1.0)>,\n",
       " (11, 8): <gurobi.Var C718 (value 1.0)>,\n",
       " (11, 9): <gurobi.Var C719 (value 0.0)>,\n",
       " (12, 0): <gurobi.Var C720 (value 0.0)>,\n",
       " (12, 1): <gurobi.Var C721 (value 0.0)>,\n",
       " (12, 2): <gurobi.Var C722 (value 0.0)>,\n",
       " (12, 3): <gurobi.Var C723 (value 0.0)>,\n",
       " (12, 4): <gurobi.Var C724 (value 1.0)>,\n",
       " (12, 5): <gurobi.Var C725 (value 1.0)>,\n",
       " (12, 6): <gurobi.Var C726 (value 1.0)>,\n",
       " (12, 7): <gurobi.Var C727 (value 1.0)>,\n",
       " (12, 8): <gurobi.Var C728 (value 0.0)>,\n",
       " (12, 9): <gurobi.Var C729 (value 0.0)>,\n",
       " (13, 0): <gurobi.Var C730 (value 0.0)>,\n",
       " (13, 1): <gurobi.Var C731 (value 1.0)>,\n",
       " (13, 2): <gurobi.Var C732 (value 0.0)>,\n",
       " (13, 3): <gurobi.Var C733 (value 0.0)>,\n",
       " (13, 4): <gurobi.Var C734 (value 0.0)>,\n",
       " (13, 5): <gurobi.Var C735 (value 0.0)>,\n",
       " (13, 6): <gurobi.Var C736 (value 0.0)>,\n",
       " (13, 7): <gurobi.Var C737 (value 1.0)>,\n",
       " (13, 8): <gurobi.Var C738 (value 1.0)>,\n",
       " (13, 9): <gurobi.Var C739 (value 0.0)>,\n",
       " (14, 0): <gurobi.Var C740 (value 0.0)>,\n",
       " (14, 1): <gurobi.Var C741 (value 0.0)>,\n",
       " (14, 2): <gurobi.Var C742 (value 1.0)>,\n",
       " (14, 3): <gurobi.Var C743 (value 1.0)>,\n",
       " (14, 4): <gurobi.Var C744 (value 0.0)>,\n",
       " (14, 5): <gurobi.Var C745 (value 0.0)>,\n",
       " (14, 6): <gurobi.Var C746 (value 0.0)>,\n",
       " (14, 7): <gurobi.Var C747 (value 1.0)>,\n",
       " (14, 8): <gurobi.Var C748 (value 1.0)>,\n",
       " (14, 9): <gurobi.Var C749 (value 1.0)>,\n",
       " (15, 0): <gurobi.Var C750 (value 0.0)>,\n",
       " (15, 1): <gurobi.Var C751 (value 0.0)>,\n",
       " (15, 2): <gurobi.Var C752 (value 0.0)>,\n",
       " (15, 3): <gurobi.Var C753 (value 1.0)>,\n",
       " (15, 4): <gurobi.Var C754 (value 0.0)>,\n",
       " (15, 5): <gurobi.Var C755 (value 0.0)>,\n",
       " (15, 6): <gurobi.Var C756 (value 0.0)>,\n",
       " (15, 7): <gurobi.Var C757 (value 0.0)>,\n",
       " (15, 8): <gurobi.Var C758 (value 0.0)>,\n",
       " (15, 9): <gurobi.Var C759 (value 1.0)>,\n",
       " (16, 0): <gurobi.Var C760 (value 0.0)>,\n",
       " (16, 1): <gurobi.Var C761 (value 0.0)>,\n",
       " (16, 2): <gurobi.Var C762 (value 1.0)>,\n",
       " (16, 3): <gurobi.Var C763 (value 1.0)>,\n",
       " (16, 4): <gurobi.Var C764 (value 0.0)>,\n",
       " (16, 5): <gurobi.Var C765 (value 1.0)>,\n",
       " (16, 6): <gurobi.Var C766 (value 0.0)>,\n",
       " (16, 7): <gurobi.Var C767 (value 1.0)>,\n",
       " (16, 8): <gurobi.Var C768 (value 0.0)>,\n",
       " (16, 9): <gurobi.Var C769 (value 1.0)>,\n",
       " (17, 0): <gurobi.Var C770 (value 0.0)>,\n",
       " (17, 1): <gurobi.Var C771 (value 1.0)>,\n",
       " (17, 2): <gurobi.Var C772 (value 0.0)>,\n",
       " (17, 3): <gurobi.Var C773 (value 1.0)>,\n",
       " (17, 4): <gurobi.Var C774 (value 0.0)>,\n",
       " (17, 5): <gurobi.Var C775 (value 1.0)>,\n",
       " (17, 6): <gurobi.Var C776 (value 0.0)>,\n",
       " (17, 7): <gurobi.Var C777 (value 1.0)>,\n",
       " (17, 8): <gurobi.Var C778 (value 0.0)>,\n",
       " (17, 9): <gurobi.Var C779 (value 1.0)>,\n",
       " (18, 0): <gurobi.Var C780 (value 1.0)>,\n",
       " (18, 1): <gurobi.Var C781 (value 1.0)>,\n",
       " (18, 2): <gurobi.Var C782 (value 0.0)>,\n",
       " (18, 3): <gurobi.Var C783 (value 0.0)>,\n",
       " (18, 4): <gurobi.Var C784 (value 0.0)>,\n",
       " (18, 5): <gurobi.Var C785 (value 1.0)>,\n",
       " (18, 6): <gurobi.Var C786 (value 0.0)>,\n",
       " (18, 7): <gurobi.Var C787 (value 0.0)>,\n",
       " (18, 8): <gurobi.Var C788 (value 0.0)>,\n",
       " (18, 9): <gurobi.Var C789 (value 1.0)>,\n",
       " (19, 0): <gurobi.Var C790 (value 0.0)>,\n",
       " (19, 1): <gurobi.Var C791 (value 0.0)>,\n",
       " (19, 2): <gurobi.Var C792 (value 0.0)>,\n",
       " (19, 3): <gurobi.Var C793 (value 1.0)>,\n",
       " (19, 4): <gurobi.Var C794 (value 0.0)>,\n",
       " (19, 5): <gurobi.Var C795 (value 1.0)>,\n",
       " (19, 6): <gurobi.Var C796 (value 0.0)>,\n",
       " (19, 7): <gurobi.Var C797 (value 1.0)>,\n",
       " (19, 8): <gurobi.Var C798 (value 0.0)>,\n",
       " (19, 9): <gurobi.Var C799 (value 1.0)>}"
      ]
     },
     "execution_count": 92,
     "metadata": {},
     "output_type": "execute_result"
    }
   ],
   "source": [
    "e"
   ]
  },
  {
   "cell_type": "code",
   "execution_count": null,
   "id": "4b25ad4f",
   "metadata": {},
   "outputs": [],
   "source": []
  }
 ],
 "metadata": {
  "kernelspec": {
   "display_name": "Python 3 (ipykernel)",
   "language": "python",
   "name": "python3"
  },
  "language_info": {
   "codemirror_mode": {
    "name": "ipython",
    "version": 3
   },
   "file_extension": ".py",
   "mimetype": "text/x-python",
   "name": "python",
   "nbconvert_exporter": "python",
   "pygments_lexer": "ipython3",
   "version": "3.9.7"
  }
 },
 "nbformat": 4,
 "nbformat_minor": 5
}
