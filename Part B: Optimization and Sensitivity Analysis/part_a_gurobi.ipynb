{
 "cells": [
  {
   "cell_type": "code",
   "execution_count": 1,
   "id": "add01b73",
   "metadata": {},
   "outputs": [],
   "source": [
    "from gurobipy import *\n",
    "import numpy as np"
   ]
  },
  {
   "cell_type": "code",
   "execution_count": 2,
   "id": "eac5539c",
   "metadata": {},
   "outputs": [],
   "source": [
    "#Indices\n",
    "t_array = np.arange(0,6)\n",
    "m_array = np.arange(0,8)\n",
    "k_array = np.arange(0, 20)\n",
    "i_array = np.arange(0, 10)\n",
    "j_array = np.arange(0, 3)"
   ]
  },
  {
   "cell_type": "code",
   "execution_count": 3,
   "id": "bf4ad215",
   "metadata": {},
   "outputs": [
    {
     "name": "stdout",
     "output_type": "stream",
     "text": [
      "Restricted license - for non-production use only - expires 2024-10-28\n"
     ]
    }
   ],
   "source": [
    "oi = Model()"
   ]
  },
  {
   "cell_type": "code",
   "execution_count": 4,
   "id": "0b995dd7",
   "metadata": {},
   "outputs": [],
   "source": [
    "#Variables\n",
    "x = oi.addVars(((i,m) for i in i_array for m in m_array),vtype = GRB.BINARY)\n",
    "e = oi.addVars(((k,i) for k in k_array for i in i_array),vtype = GRB.BINARY)\n",
    "b = oi.addVars(((i) for i in i_array),vtype = GRB.BINARY)\n",
    "y = oi.addVars(((k) for k in k_array),vtype = GRB.BINARY)\n",
    "o = oi.addVars(((i,k) for i in i_array for k in k_array),vtype = GRB.CONTINUOUS)\n",
    "w = oi.addVars(((i) for i in i_array),vtype = GRB.BINARY)\n",
    "profit = oi.addVars(GRB.CONTINUOUS)"
   ]
  },
  {
   "cell_type": "code",
   "execution_count": 5,
   "id": "5d0a9b3a",
   "metadata": {},
   "outputs": [],
   "source": [
    "#Matrices\n",
    "R_i =np.array([250, 1800, 1050, 3550, 550, 3600, 700, 3650, 1350, 2800])\n",
    "et_tk = np.array([\n",
    "    [0, 0, 0, 0, 1, 0, 0, 0, 1, 0, 0, 0, 1, 0, 0, 0, 0, 1, 0, 0],\n",
    "    [0, 0, 0, 0, 0, 0, 1, 0, 0, 1, 0, 0, 0, 1, 0, 0, 0, 0, 0, 1],\n",
    "    [0, 0, 0, 0, 0, 1, 0, 1, 0, 0, 0, 0, 0, 0, 1, 0, 0, 0, 0, 0],\n",
    "    [0, 1, 0, 1, 0, 0, 0, 0, 0, 0, 1, 0, 0, 0, 0, 1, 0, 0, 1, 0],\n",
    "    [0, 0, 1, 0, 0, 0, 0, 0, 0, 0, 0, 0, 0, 0, 0, 0, 1, 0, 0, 0],\n",
    "    [1, 0, 0, 0, 0, 0, 0, 0, 0, 0, 0, 1, 0, 0, 0, 0, 0, 0, 0, 0]])\n",
    "L = 2\n",
    "p = 1500\n",
    "H = 280\n",
    "G_j = np.array([10000, 50000, 800000])\n",
    "S_t = np.array([8000, 16000, 24000, 32000, 40000, 48000])\n",
    "ub_ti = np.array([\n",
    "    [2, 2, 2, 3, 3, 3, 3, 3, 2, 3],\n",
    "    [3, 2, 3, 2, 3, 3, 3, 2, 2, 2],\n",
    "    [2, 2, 2, 3, 2, 2, 2, 2, 3, 2],\n",
    "    [3, 2, 3, 2, 2, 2, 3, 2, 3, 3],\n",
    "    [2, 3, 2, 2, 2, 3, 3, 2, 3, 3],\n",
    "    [2, 3, 3, 2, 3, 2, 2, 2, 3, 3]])\n",
    "lb_ti = np.array([\n",
    "    [1, 1, 1, 1, 1, 1, 1, 0, 1, 0],\n",
    "    [0, 1, 0, 1, 0, 0, 0, 1, 1, 0],\n",
    "    [1, 0, 1, 1, 0, 0, 0, 0, 0, 1],\n",
    "    [1, 0, 0, 1, 1, 0, 1, 0, 1, 1],\n",
    "    [0, 1, 1, 0, 1, 1, 0, 0, 1, 1],\n",
    "    [0, 1, 1, 0, 0, 1, 0, 0, 1, 1]])\n",
    "d_ij = np.array([\n",
    "    [1, 0, 0],\n",
    "    [0, 1, 0],\n",
    "    [0, 1, 0],\n",
    "    [0, 0, 1],\n",
    "    [1, 0, 0],\n",
    "    [0, 0, 1],\n",
    "    [1, 0, 0],\n",
    "    [0, 0, 1],\n",
    "    [0, 1, 0],\n",
    "    [0, 0, 1]])\n",
    "a_im = np.array([\n",
    "    [0, 0, 0, 0, 1, 0, 1, 1],\n",
    "    [1, 1, 1, 0, 1, 0, 0, 1],\n",
    "    [0, 1, 1, 1, 0, 1, 1, 1],\n",
    "    [1, 1, 0, 0, 1, 1, 0, 0],\n",
    "    [0, 0, 0, 0, 1, 1, 0, 0],\n",
    "    [1, 0, 0, 1, 1, 1, 1, 1],\n",
    "    [0, 0, 1, 1, 1, 0, 1, 1],\n",
    "    [1, 0, 0, 0, 1, 1, 1, 0],\n",
    "    [0, 0, 1, 0, 1, 1, 1, 1],\n",
    "    [1, 0, 1, 1, 0, 1, 0, 1]])"
   ]
  },
  {
   "cell_type": "code",
   "execution_count": 6,
   "id": "1d9200dd",
   "metadata": {},
   "outputs": [],
   "source": [
    "#Constraints\n",
    "for k in k_array:\n",
    "    oi.addConstr(quicksum(e[k,i] for i in i_array)>=1)"
   ]
  },
  {
   "cell_type": "code",
   "execution_count": 7,
   "id": "c1d83252",
   "metadata": {},
   "outputs": [],
   "source": [
    "for k in k_array:\n",
    "    oi.addConstr(quicksum(e[k,i] for i in i_array)<=5)"
   ]
  },
  {
   "cell_type": "code",
   "execution_count": 8,
   "id": "cae9a21b",
   "metadata": {},
   "outputs": [],
   "source": [
    "for i in i_array:\n",
    "    for t in t_array:\n",
    "        oi.addConstr((quicksum(e[k,i] * et_tk[t,k] for k in k_array)<=ub_ti[t,i]))"
   ]
  },
  {
   "cell_type": "code",
   "execution_count": 9,
   "id": "62d4ba82",
   "metadata": {},
   "outputs": [],
   "source": [
    "for i in i_array:\n",
    "    for t in t_array:\n",
    "        oi.addConstr((quicksum(e[k,i] * et_tk[t,k] for k in k_array)>=lb_ti[t,i]))"
   ]
  },
  {
   "cell_type": "code",
   "execution_count": 10,
   "id": "ea120bd8",
   "metadata": {},
   "outputs": [],
   "source": [
    "for m in m_array:\n",
    "    oi.addConstr(quicksum(x[i,m] for i in i_array)>=1)"
   ]
  },
  {
   "cell_type": "code",
   "execution_count": 11,
   "id": "5e6701a0",
   "metadata": {},
   "outputs": [],
   "source": [
    "for i in i_array:\n",
    "    oi.addConstr(quicksum(x[i,m] for m in m_array)<=1)"
   ]
  },
  {
   "cell_type": "code",
   "execution_count": 12,
   "id": "4ee2f8df",
   "metadata": {},
   "outputs": [
    {
     "data": {
      "text/plain": [
       "<gurobi.Constr *Awaiting Model Update*>"
      ]
     },
     "execution_count": 12,
     "metadata": {},
     "output_type": "execute_result"
    }
   ],
   "source": [
    "oi.addConstr(quicksum(x[i,0] - x[i,1] for i in i_array)<=L)"
   ]
  },
  {
   "cell_type": "code",
   "execution_count": 13,
   "id": "f8e6a0a1",
   "metadata": {},
   "outputs": [
    {
     "data": {
      "text/plain": [
       "<gurobi.Constr *Awaiting Model Update*>"
      ]
     },
     "execution_count": 13,
     "metadata": {},
     "output_type": "execute_result"
    }
   ],
   "source": [
    "oi.addConstr(quicksum(x[i,1] - x[i,0] for i in i_array)<=L)"
   ]
  },
  {
   "cell_type": "code",
   "execution_count": 14,
   "id": "7a44b5c9",
   "metadata": {},
   "outputs": [],
   "source": [
    "for k in k_array:\n",
    "    oi.addConstr(quicksum(o[i,k] for i in i_array)+y[k]*8*30<= H)"
   ]
  },
  {
   "cell_type": "code",
   "execution_count": 15,
   "id": "c506375e",
   "metadata": {},
   "outputs": [],
   "source": [
    "for k in k_array:\n",
    "    oi.addConstr(y[k] <= quicksum(e[k,i] for i in i_array))"
   ]
  },
  {
   "cell_type": "code",
   "execution_count": 16,
   "id": "9b754e8f",
   "metadata": {},
   "outputs": [],
   "source": [
    "for k in k_array:\n",
    "    oi.addConstr(10*y[k]>=quicksum(e[k,i] for i in i_array))"
   ]
  },
  {
   "cell_type": "code",
   "execution_count": 17,
   "id": "a7bee4f8",
   "metadata": {},
   "outputs": [],
   "source": [
    "for k in k_array:\n",
    "    for i in i_array:\n",
    "        oi.addConstr(o[i,k]<=H*e[k,i])"
   ]
  },
  {
   "cell_type": "code",
   "execution_count": 18,
   "id": "5e2de9fe",
   "metadata": {},
   "outputs": [],
   "source": [
    "for i in i_array:\n",
    "    oi.addConstr(quicksum(x[i,m] for m in m_array)>=b[i])"
   ]
  },
  {
   "cell_type": "code",
   "execution_count": 19,
   "id": "0b0a50eb",
   "metadata": {},
   "outputs": [],
   "source": [
    "for i in i_array:\n",
    "    for m in m_array:\n",
    "        oi.addConstr(x[i,m]<=a_im[i,m])"
   ]
  },
  {
   "cell_type": "code",
   "execution_count": 20,
   "id": "a65086ac",
   "metadata": {},
   "outputs": [],
   "source": [
    "for i in i_array:\n",
    "    oi.addConstr(quicksum(8*30*e[k,i] + o[i,k]*d_ij[i,2] for k in k_array) >= (R_i[i]*b[i]))"
   ]
  },
  {
   "cell_type": "code",
   "execution_count": 21,
   "id": "2be46c3e",
   "metadata": {},
   "outputs": [
    {
     "data": {
      "text/plain": [
       "<gurobi.Constr *Awaiting Model Update*>"
      ]
     },
     "execution_count": 21,
     "metadata": {},
     "output_type": "execute_result"
    }
   ],
   "source": [
    "oi.addConstr(x[0,0]>=w[0])\n",
    "oi.addConstr(x[1,0]>=w[0])\n",
    "oi.addConstr(x[0,0]+x[1,0]-1<=w[0])\n",
    "oi.addConstr(1-w[0]<=x[2,2])"
   ]
  },
  {
   "cell_type": "code",
   "execution_count": 22,
   "id": "799092ad",
   "metadata": {},
   "outputs": [],
   "source": [
    "for i in i_array:\n",
    "    oi.addConstr((1-b[i])*d_ij[i,1]<=w[1])"
   ]
  },
  {
   "cell_type": "code",
   "execution_count": 23,
   "id": "e07edb09",
   "metadata": {},
   "outputs": [],
   "source": [
    "for i in i_array:\n",
    "    oi.addConstr(1-w[1]>=(1-b[i])*d_ij[i,2])"
   ]
  },
  {
   "cell_type": "code",
   "execution_count": 24,
   "id": "299d25cd",
   "metadata": {},
   "outputs": [],
   "source": [
    "for i in i_array:\n",
    "    for k in k_array:\n",
    "        oi.addConstr(o[i,k] >= 0)"
   ]
  },
  {
   "cell_type": "code",
   "execution_count": 25,
   "id": "3034489e",
   "metadata": {},
   "outputs": [],
   "source": [
    "oi.setObjective(quicksum(d_ij[i,j]*b[i]*G_j[j] for i in i_array for j in j_array)-quicksum(p*(1-b[i])for i in i_array)-quicksum(e[k,i]*S_t[t]*et_tk[t,k] for i in i_array for t in t_array for k in k_array)-quicksum(o[i,k]*50 for i in i_array for k in k_array),GRB.MAXIMIZE)"
   ]
  },
  {
   "cell_type": "code",
   "execution_count": 26,
   "id": "8ba291b0",
   "metadata": {},
   "outputs": [
    {
     "name": "stdout",
     "output_type": "stream",
     "text": [
      "Gurobi Optimizer version 10.0.1 build v10.0.1rc0 (win64)\n",
      "\n",
      "CPU model: 11th Gen Intel(R) Core(TM) i5-11300H @ 3.10GHz, instruction set [SSE2|AVX|AVX2|AVX512]\n",
      "Thread count: 4 physical cores, 8 logical processors, using up to 8 threads\n",
      "\n",
      "Optimize a model with 764 rows, 521 columns and 2756 nonzeros\n",
      "Model fingerprint: 0x3256ad11\n",
      "Variable types: 201 continuous, 320 integer (320 binary)\n",
      "Coefficient statistics:\n",
      "  Matrix range     [1e+00, 4e+03]\n",
      "  Objective range  [5e+01, 8e+05]\n",
      "  Bounds range     [1e+00, 1e+00]\n",
      "  RHS range        [1e+00, 3e+02]\n",
      "Found heuristic solution: objective -885500.0000\n",
      "Presolve removed 536 rows and 230 columns\n",
      "Presolve time: 0.00s\n",
      "Presolved: 228 rows, 291 columns, 1210 nonzeros\n",
      "Variable types: 80 continuous, 211 integer (211 binary)\n",
      "Found heuristic solution: objective -818000.0000\n",
      "\n",
      "Root relaxation: objective 1.328664e+06, 143 iterations, 0.00 seconds (0.00 work units)\n",
      "\n",
      "    Nodes    |    Current Node    |     Objective Bounds      |     Work\n",
      " Expl Unexpl |  Obj  Depth IntInf | Incumbent    BestBd   Gap | It/Node Time\n",
      "\n",
      "     0     0 1328664.38    0    7 -818000.00 1328664.38   262%     -    0s\n",
      "H    0     0                    869000.00000 1328664.38  52.9%     -    0s\n",
      "H    0     0                    893000.00000 1328664.38  48.8%     -    0s\n",
      "H    0     0                    898500.00000 928666.667  3.36%     -    0s\n",
      "     0     0 928666.667    0    4 898500.000 928666.667  3.36%     -    0s\n",
      "H    0     0                    905000.00000 924500.000  2.15%     -    0s\n",
      "     0     0 924500.000    0    1 905000.000 924500.000  2.15%     -    0s\n",
      "     0     0 924500.000    0    5 905000.000 924500.000  2.15%     -    0s\n",
      "     0     0 924500.000    0    5 905000.000 924500.000  2.15%     -    0s\n",
      "     0     0 924500.000    0   10 905000.000 924500.000  2.15%     -    0s\n",
      "     0     0 924500.000    0    5 905000.000 924500.000  2.15%     -    0s\n",
      "     0     0 924500.000    0    1 905000.000 924500.000  2.15%     -    0s\n",
      "     0     0 924500.000    0    1 905000.000 924500.000  2.15%     -    0s\n",
      "     0     0 924500.000    0    1 905000.000 924500.000  2.15%     -    0s\n",
      "     0     0 924500.000    0    1 905000.000 924500.000  2.15%     -    0s\n",
      "     0     0 924500.000    0    1 905000.000 924500.000  2.15%     -    0s\n",
      "     0     0 924500.000    0    1 905000.000 924500.000  2.15%     -    0s\n",
      "     0     2 924500.000    0    1 905000.000 924500.000  2.15%     -    0s\n",
      "\n",
      "Cutting planes:\n",
      "  Gomory: 4\n",
      "  Cover: 14\n",
      "  MIR: 9\n",
      "  Flow cover: 5\n",
      "  Inf proof: 7\n",
      "  RLT: 3\n",
      "\n",
      "Explored 3368 nodes (14484 simplex iterations) in 0.31 seconds (0.22 work units)\n",
      "Thread count was 8 (of 8 available processors)\n",
      "\n",
      "Solution count 5: 905000 893000 869000 ... -885500\n",
      "\n",
      "Optimal solution found (tolerance 1.00e-04)\n",
      "Best objective 9.050000000000e+05, best bound 9.050000000000e+05, gap 0.0000%\n"
     ]
    }
   ],
   "source": [
    "oi.optimize()"
   ]
  }
 ],
 "metadata": {
  "kernelspec": {
   "display_name": "Python 3 (ipykernel)",
   "language": "python",
   "name": "python3"
  },
  "language_info": {
   "codemirror_mode": {
    "name": "ipython",
    "version": 3
   },
   "file_extension": ".py",
   "mimetype": "text/x-python",
   "name": "python",
   "nbconvert_exporter": "python",
   "pygments_lexer": "ipython3",
   "version": "3.9.7"
  }
 },
 "nbformat": 4,
 "nbformat_minor": 5
}
